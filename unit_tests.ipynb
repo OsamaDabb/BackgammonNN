{
 "cells": [
  {
   "cell_type": "code",
   "execution_count": null,
   "id": "initial_id",
   "metadata": {
    "collapsed": true
   },
   "outputs": [],
   "source": [
    "import numpy as np\n",
    "from heuristic import *\n",
    "from backgammon import *"
   ]
  },
  {
   "cell_type": "code",
   "outputs": [],
   "source": [
    "#just testing the above functions dont mind me:\n",
    "#roll()\n",
    "for i in range(3):\n",
    "    print(roll())\n",
    "print(\"*\" * 15)\n",
    "#starting_board\n",
    "board = starting_board()\n",
    "boardNode = BoardPrinter(board)\n",
    "print(boardNode)\n",
    "print(f\"Whites turn is {board[WHITE_TURN]}\")\n",
    "rolls = roll()\n",
    "print(f\"Rolls are {rolls}\")\n",
    "print(board[BOARD_SPLICE])\n",
    "print(\"*\" * 15)\n",
    "\n",
    "moves = possible_moves(board,rolls)\n",
    "\n",
    "hit_board = [0,0,0,0,0,0,0,1,-1,0,0,0,0,0,0,0,0,0,0,0,0,0,0,0,0,0,0,0,1]\n",
    "test_kill = possible_moves(hit_board,[1])\n",
    "\n",
    "bear_board = [0,0,0,0,0,0,0,0,0,0,0,0,0,0,0,0,0,0,0,0,0,0,1,3,0,0,0,0,1]\n",
    "test_bear = possible_moves(bear_board,[3,1])\n",
    "\n",
    "respawn_board = [0,-2,-1,-2,0,-2,-2,0,0,1,1,1,1,0,0,0,0,0,0,0,0,0,0,0,0,0,1,0,1]\n",
    "test_respawn = possible_moves(respawn_board, [4,2])\n",
    "\n",
    "#test on simple starting board\n",
    "print(\"Testing simple board:\")\n",
    "for move in moves[:3]:\n",
    "    print(move[1])\n",
    "    print(move[0][BOARD_SPLICE])\n",
    "    print()\n",
    "print(\"*\" * 15)\n",
    "\n",
    "#test hitting a piece and ending turn\n",
    "print(\"Testing hitting piece and turn change:\")\n",
    "for move in test_kill:\n",
    "    print(move[1])\n",
    "    print(move[0])\n",
    "    print()\n",
    "print(\"*\" * 15)\n",
    "\n",
    "print(\"Testing bearing off pieces:\")\n",
    "for move in test_bear:\n",
    "    print(move[1])\n",
    "    print(move[0][BOARD_SPLICE])\n",
    "    print()\n",
    "print(\"*\" * 15)\n",
    "\n",
    "print(\"Testing respawning pieces:\")\n",
    "for move in test_respawn:\n",
    "    print(move[1])\n",
    "    print(move[0][BOARD_SPLICE])\n",
    "    print()"
   ],
   "metadata": {
    "collapsed": false
   },
   "id": "bf0d733f1d3ee204"
  },
  {
   "cell_type": "code",
   "outputs": [],
   "source": [
    "#testing my call to full_step to see if it provides all possible combinations and accurate text descriptions\n",
    "mult_options = [0] * 29\n",
    "mult_options[3] = 1\n",
    "mult_options[5] = 1\n",
    "mult_options[WHITE_TURN] = 1\n",
    "mult_options = np.array(mult_options)\n",
    "\n",
    "x = full_step(mult_options, [3,3,3,3])\n",
    "\n",
    "print(mult_options[BOARD_SPLICE])\n",
    "for val in x:\n",
    "    print(val[1])\n",
    "    print(val[0][BOARD_SPLICE])\n",
    "    print(\"*\" * 15)"
   ],
   "metadata": {
    "collapsed": false
   },
   "id": "2a0a4726f6bc47c6"
  }
 ],
 "metadata": {
  "kernelspec": {
   "display_name": "Python 3",
   "language": "python",
   "name": "python3"
  },
  "language_info": {
   "codemirror_mode": {
    "name": "ipython",
    "version": 2
   },
   "file_extension": ".py",
   "mimetype": "text/x-python",
   "name": "python",
   "nbconvert_exporter": "python",
   "pygments_lexer": "ipython2",
   "version": "2.7.6"
  }
 },
 "nbformat": 4,
 "nbformat_minor": 5
}
