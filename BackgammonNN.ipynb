{
 "cells": [
  {
   "cell_type": "code",
   "outputs": [],
   "source": [
    "import pandas as pd\n",
    "import numpy as np\n",
    "from backgammon import *\n",
    "from pMCTS import *"
   ],
   "metadata": {
    "collapsed": false
   },
   "id": "b44a2e755178bd86"
  },
  {
   "cell_type": "code",
   "outputs": [],
   "source": [
    "def player_chooser(player, board, rolls, legal_moves, depth, white_turn):\n",
    "\n",
    "    if player == 'MCTS':\n",
    "\n",
    "        return pUCT(board, rolls, legal_moves, depth)\n",
    "\n",
    "    if player == 'Heuristic':\n",
    "\n",
    "        return bestmove(legal_moves, white_turn)\n",
    "\n",
    "    if player == 'Random':\n",
    "\n",
    "        return random.choice(legal_moves)"
   ],
   "metadata": {
    "collapsed": false
   },
   "id": "fbe8c18417513b5d"
  },
  {
   "cell_type": "code",
   "outputs": [],
   "source": [
    "NUM = 2 # number of iterations of random games for NN data\n",
    "\n",
    "def my_read_csv(): # this reads from the csv\n",
    "\n",
    "    df = pd.read_csv('/content/drive/MyDrive/DS340/data.csv') # convert the csv into a dataframe\n",
    "    boards = [] # create 3 arrays for each of the different columns\n",
    "    wins = []\n",
    "    total = []\n",
    "\n",
    "    for i in range(len(df)): # go over the dataframe\n",
    "\n",
    "        temp = df.iloc[i,0].split('.') # split the string into numbers\n",
    "        temp = [int(i) for i in temp] # put those numbers into an array\n",
    "        boards.append(temp) # add the array to array of boards\n",
    "        wins.append(df.iloc[i,1])\n",
    "        total.append(df.iloc[i,2])\n",
    "\n",
    "    return boards, wins, total # return all three arrays\n",
    "\n",
    "\n",
    "def data_creator(num = NUM): # this function augments existing data in the csv with another num simulations of the game\n",
    "\n",
    "    boards, wins, total = my_read_csv() # the csv stores the board state, the number of times white won from that state, the total games that this board state came up in \n",
    "    trainer = dict() # this is the dictionary that will store the existing results\n",
    "\n",
    "    for i in range(len(boards)): # go over the csv data and throw it in the dictionary\n",
    "\n",
    "        board = boards[i]\n",
    "        str_rep = '' # this will hold the string representation of the board state\n",
    "        for item in board:\n",
    "\n",
    "            str_rep += '.' + str(item)\n",
    "        trainer[str_rep[1:]] = [wins[i], total[i]]\n",
    "\n",
    "    for i in range(num): # do the simulations\n",
    "        boards, winner = data_play('MCTS', 'Random', 5) # choose which types of AI you want to see play\n",
    "\n",
    "        for board in boards: # go over the boards created in the process\n",
    "\n",
    "            str_rep = '' # this will hold the string representation\n",
    "            for item in board:\n",
    "\n",
    "                str_rep += '.' + str(item)\n",
    "\n",
    "            existing = trainer.get(str_rep[1:], [0,0]) # see if this board already exists\n",
    "            existing[0] += winner # add the information of wins\n",
    "            existing[1] += 1\n",
    "            trainer[str_rep[1:]] = existing # put the information back\n",
    "\n",
    "    df = pd.DataFrame.from_dict(data = trainer, orient = 'index') # turn this into a dataframe\n",
    "\n",
    "    df.to_csv('data.csv') # converty the dataframe into a csv\n",
    "    !cp data.csv \"drive/My Drive/\" # upload the csv\n",
    "\n",
    "\n",
    "def convert(): # this converts the csv into two arrays of board states and wins \n",
    "\n",
    "    boards, wins, total = my_read_csv()\n",
    "    wins = np.asarray(wins)\n",
    "    total = np.asarray(total)\n",
    "    wins = wins/total\n",
    "\n",
    "    return boards, wins\n",
    "\n",
    "boards, wins = convert()"
   ],
   "metadata": {
    "collapsed": false
   },
   "id": "201ebe7f2a01c0e4"
  },
  {
   "cell_type": "code",
   "outputs": [],
   "source": [
    "data_creator(10000)"
   ],
   "metadata": {
    "collapsed": false
   },
   "id": "14b2bd74f7fb18db"
  },
  {
   "cell_type": "code",
   "outputs": [],
   "source": [
    "\"\"\"function that turns standard board states into boards with feature-extraction \n",
    "to emphasize the significance of stacking pieces, and clarify the distinction between\n",
    "positive and negative numbers as black/white pieces to the AI \n",
    "\"\"\"\n",
    "def transform_board(board):\n",
    "    board = list(board)\n",
    "    game_state = [board[0]] + board[25:]\n",
    "\n",
    "    board_states = np.zeros((24, 4, 1))\n",
    "    for ind, val in enumerate(board[BOARD_SPLICE]): # segregates each item on the board based on the number of pieces on that space\n",
    "        if val > 1:\n",
    "            board_states[ind][0][0] = val\n",
    "        elif val == 1:\n",
    "            board_states[ind][1][0] = val\n",
    "        elif val == -1:\n",
    "            board_states[ind][2][0] = val\n",
    "        else:\n",
    "            board_states[ind][3][0] = val\n",
    "\n",
    "    return board_states, game_state"
   ],
   "metadata": {
    "collapsed": false
   },
   "id": "5032462d584205af"
  },
  {
   "cell_type": "code",
   "outputs": [],
   "source": [
    "#modifies default board states into states useable by CNN\n",
    "mod_boards, states, y = [], [], []\n",
    "for ind, board in enumerate(boards):\n",
    "    x1, x2 = transform_board(board)\n",
    "    mod_boards.append(x1)\n",
    "    states.append(x2)\n",
    "    y.append(wins[ind])\n",
    "\n",
    "mod_boards = np.asarray(mod_boards)\n",
    "states = np.asarray(states)\n",
    "y = np.asarray(y)"
   ],
   "metadata": {
    "collapsed": false
   },
   "id": "35e8c89cdf3a1e88"
  },
  {
   "cell_type": "code",
   "outputs": [],
   "source": [
    "import tensorflow as tf\n",
    "from tensorflow import keras\n",
    "from keras.layers import Input, Conv2D, ReLU, Dropout, Flatten, Dense, concatenate\n",
    "\n",
    "#Framework for CNN model\n",
    "board = Input((24, 4, 1))\n",
    "play_state = Input((5,))\n",
    "\n",
    "conv_1 = Conv2D(32, (12,2),strides=(1,2), activation=\"relu\")(board)\n",
    "drop_1 = Dropout(0.2)(conv_1)\n",
    "conv_2 = Conv2D(64, kernel_size=(2,2), activation=\"relu\")(drop_1)\n",
    "drop_2 = Dropout(0.2)(conv_2)\n",
    "flattened = Flatten()(drop_2)\n",
    "\n",
    "dense_1 = Dense(128, activation=\"relu\")(flattened)\n",
    "dropout_1 = Dropout(0.2)(dense_1)\n",
    "\n",
    "dense_2 = Dense(64, activation=\"relu\")(dropout_1)\n",
    "dropout_2 = Dropout(0.2)(dense_2)\n",
    "\n",
    "dense_3 = Dense(8, activation=\"relu\")(dropout_2)\n",
    "dropout_3 = Dropout(0.2)(dense_3)\n",
    "\n",
    "merged = concatenate([dropout_3, play_state])\n",
    "\n",
    "output = Dense(1, activation=\"sigmoid\")(merged)\n",
    "model = keras.models.Model(inputs=(board,play_state), outputs=output)\n",
    "\n",
    "model.compile(optimizer=\"adam\", loss=\"mean_squared_error\")"
   ],
   "metadata": {
    "collapsed": true
   },
   "id": "initial_id",
   "execution_count": 0
  },
  {
   "cell_type": "code",
   "outputs": [],
   "source": [
    "import tensorflow as tf\n",
    "from tensorflow import keras\n",
    "from keras.layers import Input, Conv2D, ReLU, Dropout, Flatten, Dense, concatenate\n",
    "\n",
    "#Framework for fully connected network\n",
    "input = Input((29,))\n",
    "\n",
    "dense_1 = Dense(128, activation=\"relu\")(input)\n",
    "dropout_1 = Dropout(0.2)(dense_1)\n",
    "\n",
    "dense_2 = Dense(64, activation=\"relu\")(dropout_1)\n",
    "dropout_2 = Dropout(0.2)(dense_2)\n",
    "\n",
    "dense_3 = Dense(8, activation=\"relu\")(dropout_2)\n",
    "dropout_3 = Dropout(0.2)(dense_3)\n",
    "\n",
    "output = Dense(1, activation=\"sigmoid\")(dropout_3)\n",
    "model = keras.models.Model(inputs=(input), outputs=output)\n",
    "\n",
    "model.compile(optimizer=\"adam\", loss=\"mean_squared_error\")"
   ],
   "metadata": {
    "collapsed": false
   },
   "id": "ac6d3fac9f8252d2"
  },
  {
   "cell_type": "code",
   "outputs": [],
   "source": [
    "model = tf.keras.models.load_model('/content/drive/MyDrive/DS340/BackgammonNN') # this is the NN model that we trained and saved in\n",
    "\n",
    "model.summary()"
   ],
   "metadata": {
    "collapsed": false
   },
   "id": "b9c52362b6667340"
  },
  {
   "cell_type": "code",
   "outputs": [],
   "source": [
    "from keras.callbacks import EarlyStopping\n",
    "earlyStop = EarlyStopping(\"val_loss\",patience=4)\n",
    "model.fit(x=[mod_boards,states],y=y,epochs=30, validation_split=0.1,callbacks=[earlyStop])"
   ],
   "metadata": {
    "collapsed": false
   },
   "id": "8cbb18ed94eb98f3"
  },
  {
   "cell_type": "code",
   "outputs": [],
   "source": [
    "def NN_rollout(board, model = model):\n",
    "    board, state = transform_board(board)\n",
    "    b = np.asarray([board])\n",
    "    s = np.asarray([state])\n",
    "    pred = model.predict([b,s], verbose=0)\n",
    "    if node.board[WHITE_TURN] == 1:\n",
    "        pred = 1-pred\n",
    "    return pred"
   ],
   "metadata": {
    "collapsed": false
   },
   "id": "871995bc50490254"
  }
 ],
 "metadata": {
  "kernelspec": {
   "display_name": "Python 3",
   "language": "python",
   "name": "python3"
  },
  "language_info": {
   "codemirror_mode": {
    "name": "ipython",
    "version": 2
   },
   "file_extension": ".py",
   "mimetype": "text/x-python",
   "name": "python",
   "nbconvert_exporter": "python",
   "pygments_lexer": "ipython2",
   "version": "2.7.6"
  }
 },
 "nbformat": 4,
 "nbformat_minor": 5
}
